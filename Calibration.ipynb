{
 "cells": [
  {
   "cell_type": "markdown",
   "metadata": {},
   "source": [
    "# Target: IC 5146 (Cocoon nebula)\n",
    "\n",
    "![Image not found](https://upload.wikimedia.org/wikipedia/commons/thumb/8/8c/IC5146_The_Cocoon_Nebula.jpg/1200px-IC5146_The_Cocoon_Nebula.jpg)"
   ]
  },
  {
   "cell_type": "code",
   "execution_count": 1,
   "metadata": {},
   "outputs": [],
   "source": [
    "import numpy as np\n",
    "from IPython.display import display, Latex"
   ]
  },
  {
   "cell_type": "markdown",
   "metadata": {},
   "source": [
    "## Properties of the target"
   ]
  },
  {
   "cell_type": "code",
   "execution_count": 2,
   "metadata": {},
   "outputs": [],
   "source": [
    "# Right Ascension = 21h 54m 26s\n",
    "# Declination =    +47° 23’ 04”\n",
    "\n",
    "Radius = 5*60       # in arcsec (we approximate the nebula to be circular)\n",
    "Magnitude_V = 7.2   # V band (551nm)\n",
    "lambda_V = 5510     # in Angstrom\n",
    "FWHM_V = 880        # in Angstrom"
   ]
  },
  {
   "cell_type": "markdown",
   "metadata": {},
   "source": [
    "## Properties of the detector"
   ]
  },
  {
   "cell_type": "code",
   "execution_count": 3,
   "metadata": {},
   "outputs": [],
   "source": [
    "# 4499 X 3599 square pixels, with a side of 6 microns\n",
    "L_pixel_arcsec = 0.44   # in arcsec\n",
    "L_pixel_cm = 6e-4       # in cm\n",
    "\n",
    "RON = 9                 # Readout Noise, in electrons per pixel\n",
    "\n",
    "DarkCurrent = 0.25      # Dark current noise, in electrons per second per pixel at 0 °C\n",
    "# We are interested in the dark current at T_operational = -20 °C\n",
    "# We conservatively assume that the dark current doubles every 10 °C\n",
    "DarkCurrent = DarkCurrent/4"
   ]
  },
  {
   "cell_type": "code",
   "execution_count": 4,
   "metadata": {},
   "outputs": [
    {
     "name": "stdout",
     "output_type": "stream",
     "text": [
      "Number of pixels covered by the target:  1460451\n",
      "Total number of pixels:  16191901\n"
     ]
    }
   ],
   "source": [
    "Area_target = np.pi*Radius**2\n",
    "NPixels_target = int(Area_target/L_pixel_arcsec**2)\n",
    "print(\"Number of pixels covered by the target: \", NPixels_target)\n",
    "print(\"Total number of pixels: \", 4499*3599)"
   ]
  },
  {
   "cell_type": "markdown",
   "metadata": {},
   "source": [
    "## From magnitude to flux"
   ]
  },
  {
   "cell_type": "markdown",
   "metadata": {},
   "source": [
    "Reference: [AB magnitude system](https://en.wikipedia.org/wiki/AB_magnitude)"
   ]
  },
  {
   "cell_type": "markdown",
   "metadata": {},
   "source": [
    "We have a value for the magnitude and we want a flux.\n",
    "\n",
    "$m = -2.5 \\log_{10} \\left(f_\\nu / f_0\\right)$ \n",
    "\n",
    "Let us consider the *AB magnitude* system, in which $f_0 = f_\\text{Vega, V band} \\approx 3631 \\text{ Jy} = 3631 \\times 10^{-23} erg/s/cm^2/Hz$. \\\n",
    "We can also extract this value from the logarithm, obtaining:\n",
    "\n",
    "$m_{AB} = -2.5 \\log_{10} \\left(f_\\nu\\right) - 48.60$ \n",
    "\n",
    "The resulting flux is given by:\n",
    "\n",
    "$f_\\nu \\left[erg/s/cm^2/Hz\\right] = 10^{-0.4\\left(m_{AB} + 48.60\\right)}$"
   ]
  },
  {
   "cell_type": "code",
   "execution_count": 5,
   "metadata": {},
   "outputs": [
    {
     "data": {
      "text/latex": [
       "$f_\\nu = 4.79e-23 \\:\\:\\: erg/s/cm^2/Hz$"
      ],
      "text/plain": [
       "<IPython.core.display.Latex object>"
      ]
     },
     "metadata": {},
     "output_type": "display_data"
    }
   ],
   "source": [
    "f_nu = 10**(-0.4*(Magnitude_V + 48.60)) \n",
    "display(Latex(f'$f_\\\\nu = {f_nu:.2e} \\:\\:\\: erg/s/cm^2/Hz$'))"
   ]
  },
  {
   "cell_type": "markdown",
   "metadata": {},
   "source": [
    "We still have to convert from $f_\\nu \\left[erg/s/cm^2/Hz\\right]$ to $f_\\lambda \\left[erg/s/cm^2/\\AA\\right]$. \\\n",
    "We can take advantage of $f_\\lambda d\\lambda = f_\\nu d\\nu$:\n",
    "\n",
    "$f_\\lambda = f_\\nu \\left\\vert\\dfrac{d\\nu}{d\\lambda}\\right\\vert \\overset{\\lambda \\nu = c}{=} f_\\nu \\left\\vert\\dfrac{d\\left(c/\\lambda\\right)}{d\\lambda}\\right\\vert = f_\\nu \\dfrac{c}{\\lambda^2}$"
   ]
  },
  {
   "cell_type": "code",
   "execution_count": 6,
   "metadata": {},
   "outputs": [
    {
     "data": {
      "text/latex": [
       "$f_\\lambda = 4.73e-12 \\:\\:\\: erg/s/cm^2/\\AA$"
      ],
      "text/plain": [
       "<IPython.core.display.Latex object>"
      ]
     },
     "metadata": {},
     "output_type": "display_data"
    }
   ],
   "source": [
    "c_light = 2.99792458*10**18   # in Angstrom/s\n",
    "\n",
    "f_lambda = f_nu * c_light / lambda_V**2\n",
    "display(Latex(f'$f_\\\\lambda = {f_lambda:.2e} \\:\\:\\: erg/s/cm^2/\\AA$'))"
   ]
  },
  {
   "cell_type": "code",
   "execution_count": 7,
   "metadata": {},
   "outputs": [
    {
     "data": {
      "text/latex": [
       "$f_\\text{photons} = 1153.65 \\:\\:\\: \\text{photons}/s/cm^2$"
      ],
      "text/plain": [
       "<IPython.core.display.Latex object>"
      ]
     },
     "metadata": {},
     "output_type": "display_data"
    },
    {
     "data": {
      "text/latex": [
       "$f_\\text{photons} = 0.00042 \\:\\:\\: \\text{photons}/s/\\text{pixel}$"
      ],
      "text/plain": [
       "<IPython.core.display.Latex object>"
      ]
     },
     "metadata": {},
     "output_type": "display_data"
    }
   ],
   "source": [
    "# This is not necessary, but we can calculate the number of photons per second per cm2\n",
    "\n",
    "# We assume that all photons in the band have the same energy, even though this is not true\n",
    "h_plank = 6.62607015*10**(-27) # in erg*s\n",
    "photon_energy = h_plank * c_light / lambda_V\n",
    "\n",
    "# To obtain the number of photons per second per cm2, we need to multiply f_lambda/photon_energy by the bandwidth of the V band (or at least I think so)\n",
    "f_photons = (f_lambda / photon_energy) * FWHM_V\n",
    "display(Latex(f'$f_\\\\text{{photons}} = {f_photons:.2f} \\:\\:\\: \\\\text{{photons}}/s/cm^2$'))\n",
    "\n",
    "Area_pixel_cm2 = L_pixel_cm**2\n",
    "display(Latex(f'$f_\\\\text{{photons}} = {f_photons*Area_pixel_cm2:.5f} \\:\\:\\: \\\\text{{photons}}/s/\\\\text{{pixel}}$'))"
   ]
  },
  {
   "cell_type": "markdown",
   "metadata": {},
   "source": [
    "## Calibration"
   ]
  },
  {
   "cell_type": "markdown",
   "metadata": {},
   "source": [
    "Not all the photons that enter in our telescope will end up in a photoelectron due to a handful of reasons: dust on the mirrors, transmittance of the filters, and quantum efficiency of the detector.\\\n",
    "The calibration constant C is the conversion factor between counts in $\\left[e^-/s\\right]$ and specific fluxes in $\\left[erg/s/cm^2/\\AA\\right]$.\n",
    "\n",
    "$N_e \\left[e^-/s\\right] = 10^C f_\\lambda \\left[erg/s/cm^2/\\AA\\right]$\n",
    "\n",
    "In the g filter, we have $C = 17.61 \\pm 0.04$. Actually, this is not the V band for which we have the magnitude, but it is the closest available."
   ]
  },
  {
   "cell_type": "code",
   "execution_count": 8,
   "metadata": {},
   "outputs": [
    {
     "data": {
      "text/latex": [
       "$N_\\text{electrons} = 1925385 \\:\\:\\: e/s$"
      ],
      "text/plain": [
       "<IPython.core.display.Latex object>"
      ]
     },
     "metadata": {},
     "output_type": "display_data"
    },
    {
     "data": {
      "text/latex": [
       "$N_\\text{electrons, per pixel} = 1.32 \\:\\:\\: e/s/\\text{pixel}$"
      ],
      "text/plain": [
       "<IPython.core.display.Latex object>"
      ]
     },
     "metadata": {},
     "output_type": "display_data"
    }
   ],
   "source": [
    "C_calibration = 17.61\n",
    "\n",
    "Ne = 10**C_calibration * f_lambda\n",
    "display(Latex(f'$N_\\\\text{{electrons}} = {Ne:.0f} \\:\\:\\: e/s$'))\n",
    "\n",
    "Ne_pixel = Ne/NPixels_target\n",
    "display(Latex(f'$N_\\\\text{{electrons, per pixel}} = {Ne_pixel:.2f} \\:\\:\\: e/s/\\\\text{{pixel}}$'))"
   ]
  },
  {
   "cell_type": "markdown",
   "metadata": {},
   "source": [
    "## Estimate of the SNR"
   ]
  },
  {
   "cell_type": "markdown",
   "metadata": {},
   "source": [
    "$SNR = \\dfrac{N_\\text{electrons}}{\\sqrt{N_\\text{e} + N_\\text{e, sky bkg} + N_\\text{triggered pixels}\\left(N_\\text{e, dc} + RON^2\\right)}}$"
   ]
  },
  {
   "cell_type": "code",
   "execution_count": 9,
   "metadata": {},
   "outputs": [
    {
     "data": {
      "text/latex": [
       "$N_\\text{electrons} = 1925385 \\:\\:\\: e/s$"
      ],
      "text/plain": [
       "<IPython.core.display.Latex object>"
      ]
     },
     "metadata": {},
     "output_type": "display_data"
    },
    {
     "data": {
      "text/latex": [
       "$N_\\text{triggered pixels} = 1460451 \\:\\:\\: \\text{pixels}$"
      ],
      "text/plain": [
       "<IPython.core.display.Latex object>"
      ]
     },
     "metadata": {},
     "output_type": "display_data"
    },
    {
     "data": {
      "text/latex": [
       "$N_\\text{e, dc} = 0.062 \\:\\:\\: e/s/\\text{pixel}$"
      ],
      "text/plain": [
       "<IPython.core.display.Latex object>"
      ]
     },
     "metadata": {},
     "output_type": "display_data"
    },
    {
     "data": {
      "text/latex": [
       "$\\text{RON} = 9.0 \\:\\:\\: e/\\text{pixel}$"
      ],
      "text/plain": [
       "<IPython.core.display.Latex object>"
      ]
     },
     "metadata": {},
     "output_type": "display_data"
    }
   ],
   "source": [
    "display(Latex(f'$N_\\\\text{{electrons}} = {Ne:.0f} \\:\\:\\: e/s$'))\n",
    "display(Latex(f'$N_\\\\text{{triggered pixels}} = {NPixels_target:.0f} \\:\\:\\: \\\\text{{pixels}}$'))\n",
    "display(Latex(f'$N_\\\\text{{e, dc}} = {DarkCurrent:.3f} \\:\\:\\: e/s/\\\\text{{pixel}}$'))\n",
    "display(Latex(f'$\\\\text{{RON}} = {RON:.1f} \\:\\:\\: e/\\\\text{{pixel}}$'))"
   ]
  },
  {
   "cell_type": "markdown",
   "metadata": {},
   "source": [
    "We still have to determine $N_\\text{e, sky bkg}$.\\\n",
    "In the g filter, we have an estimated sky background of  $f_\\text{bkg} = 10^{-17.47+/-0.02} \\left[erg/s/cm^2/\\AA\\right/\\text{arcsec}^2]$.\\\n",
    "If we multiply this number by the area of our target in arcseconds, we get the total flux of background photons (I'm not sure if I should multiply by the total area of the detector instead)"
   ]
  },
  {
   "cell_type": "code",
   "execution_count": 10,
   "metadata": {},
   "outputs": [
    {
     "data": {
      "text/latex": [
       "$f_\\text{bkg} = 9.58e-13 \\:\\:\\: erg/s/cm^2/\\AA$"
      ],
      "text/plain": [
       "<IPython.core.display.Latex object>"
      ]
     },
     "metadata": {},
     "output_type": "display_data"
    },
    {
     "data": {
      "text/latex": [
       "$N_\\text{electrons, bkg} = 390294 \\:\\:\\: e/s$"
      ],
      "text/plain": [
       "<IPython.core.display.Latex object>"
      ]
     },
     "metadata": {},
     "output_type": "display_data"
    }
   ],
   "source": [
    "#Area =  4499*L_pixel_arcsec*3599*L_pixel_arcsec\n",
    "f_bkg = Area_target * 10**(-17.47)\n",
    "display(Latex(f'$f_\\\\text{{bkg}} = {f_bkg:.2e} \\:\\:\\: erg/s/cm^2/\\AA$'))\n",
    "\n",
    "Ne_bkg = 10**C_calibration * f_bkg\n",
    "display(Latex(f'$N_\\\\text{{electrons, bkg}} = {Ne_bkg:.0f} \\:\\:\\: e/s$'))"
   ]
  },
  {
   "cell_type": "code",
   "execution_count": 11,
   "metadata": {},
   "outputs": [
    {
     "data": {
      "text/latex": [
       "$\\text{SNR} = 175.25$"
      ],
      "text/plain": [
       "<IPython.core.display.Latex object>"
      ]
     },
     "metadata": {},
     "output_type": "display_data"
    }
   ],
   "source": [
    "Noise = np.sqrt(Ne + Ne_bkg + NPixels_target*(DarkCurrent + RON**2))\n",
    "SNR = Ne/Noise\n",
    "display(Latex(f'$\\\\text{{SNR}} = {SNR:.2f}$'))"
   ]
  }
 ],
 "metadata": {
  "kernelspec": {
   "display_name": "base",
   "language": "python",
   "name": "python3"
  },
  "language_info": {
   "codemirror_mode": {
    "name": "ipython",
    "version": 3
   },
   "file_extension": ".py",
   "mimetype": "text/x-python",
   "name": "python",
   "nbconvert_exporter": "python",
   "pygments_lexer": "ipython3",
   "version": "3.11.8"
  }
 },
 "nbformat": 4,
 "nbformat_minor": 2
}
