{
 "cells": [
  {
   "cell_type": "code",
   "execution_count": 1,
   "metadata": {},
   "outputs": [],
   "source": [
    "import numpy as np\n",
    "from matplotlib import pyplot as plt"
   ]
  },
  {
   "cell_type": "markdown",
   "metadata": {},
   "source": [
    "Documentation:\n",
    "\n",
    "https://www.cosmos.esa.int/web/gaia-users/archive/datalink-products"
   ]
  },
  {
   "cell_type": "markdown",
   "metadata": {},
   "source": [
    "## Import `astroquery`"
   ]
  },
  {
   "cell_type": "code",
   "execution_count": 2,
   "metadata": {},
   "outputs": [],
   "source": [
    "#!pip install astroquery\n",
    "from astroquery.gaia import Gaia"
   ]
  },
  {
   "cell_type": "markdown",
   "metadata": {},
   "source": [
    "## Create a list containing the GAIA IDs of the objects you are interested in:"
   ]
  },
  {
   "cell_type": "code",
   "execution_count": 3,
   "metadata": {},
   "outputs": [],
   "source": [
    "starID_array = [1974542151266029696, 1974542361726544384, 1974544320231472640]"
   ]
  },
  {
   "cell_type": "markdown",
   "metadata": {},
   "source": [
    "## Download the spectra:"
   ]
  },
  {
   "cell_type": "code",
   "execution_count": 4,
   "metadata": {},
   "outputs": [
    {
     "name": "stderr",
     "output_type": "stream",
     "text": [
      "ERROR: Path c:\\Users\\Marco\\OneDrive - Università degli Studi di Milano-Bicocca\\Documenti\\PythonProjects\\Laboratory-of-Data-Acquisition\\Gaia_spectra already exist [astroquery.gaia.core]\n"
     ]
    },
    {
     "name": "stdout",
     "output_type": "stream",
     "text": [
      "Retrieving data.\n",
      "Data request: VALID_DATA=false&ID=1974542151266029696%2C1974542361726544384%2C1974544320231472640&RELEASE=Gaia+DR3&DATA_STRUCTURE=INDIVIDUAL&FORMAT=votable&RETRIEVAL_TYPE=XP_SAMPLED&USE_ZIP_ALWAYS=true\n",
      "------>https\n",
      "host = gea.esac.esa.int:443\n",
      "context = /data-server/data\n",
      "Content-type = application/x-www-form-urlencoded\n",
      "200 200\n",
      "Reading...\n",
      "Done.\n",
      "INFO: output_file = c:\\Users\\Marco\\OneDrive - Università degli Studi di Milano-Bicocca\\Documenti\\PythonProjects\\Laboratory-of-Data-Acquisition\\Gaia_spectra\\.zip [astroquery.gaia.core]\n"
     ]
    }
   ],
   "source": [
    "retrieval_type = 'XP_SAMPLED'     # Options are: 'EPOCH_PHOTOMETRY', 'MCMC_GSPPHOT', 'MCMC_MSC', 'XP_SAMPLED', 'XP_CONTINUOUS', 'RVS', 'ALL'\n",
    "data_structure = 'INDIVIDUAL'     # Options are: 'INDIVIDUAL' or 'RAW'\n",
    "data_release   = 'Gaia DR3'       # Options are: 'Gaia DR3' (default), 'Gaia DR2'\n",
    "\n",
    "datalink = Gaia.load_data(ids=starID_array,\n",
    "                          data_release=data_release, \n",
    "                          retrieval_type=retrieval_type, \n",
    "                          data_structure=data_structure, \n",
    "                          format='votable',               \n",
    "                          verbose=True,   \n",
    "                          output_file='Gaia_spectra/', \n",
    "                          overwrite_output_file='True')"
   ]
  },
  {
   "cell_type": "markdown",
   "metadata": {},
   "source": [
    "## Create a list containing the keys of the dictionary"
   ]
  },
  {
   "cell_type": "code",
   "execution_count": 5,
   "metadata": {},
   "outputs": [
    {
     "name": "stdout",
     "output_type": "stream",
     "text": [
      "\n",
      "The following Datalink products have been downloaded:\n",
      " * XP_SAMPLED-Gaia DR3 1974542151266029696.xml\n",
      " * XP_SAMPLED-Gaia DR3 1974542361726544384.xml\n",
      " * XP_SAMPLED-Gaia DR3 1974544320231472640.xml\n"
     ]
    }
   ],
   "source": [
    "dl_keys  = [inp for inp in datalink.keys()]\n",
    "\n",
    "print()\n",
    "print(f'The following Datalink products have been downloaded:')\n",
    "for dl_key in dl_keys:\n",
    "    print(f' * {dl_key}')"
   ]
  },
  {
   "cell_type": "markdown",
   "metadata": {},
   "source": [
    "## Extract wavelengths and fluxes"
   ]
  },
  {
   "cell_type": "code",
   "execution_count": 6,
   "metadata": {},
   "outputs": [
    {
     "data": {
      "text/plain": [
       "array([ 336.,  338.,  340.,  342.,  344.,  346.,  348.,  350.,  352.,\n",
       "        354.,  356.,  358.,  360.,  362.,  364.,  366.,  368.,  370.,\n",
       "        372.,  374.,  376.,  378.,  380.,  382.,  384.,  386.,  388.,\n",
       "        390.,  392.,  394.,  396.,  398.,  400.,  402.,  404.,  406.,\n",
       "        408.,  410.,  412.,  414.,  416.,  418.,  420.,  422.,  424.,\n",
       "        426.,  428.,  430.,  432.,  434.,  436.,  438.,  440.,  442.,\n",
       "        444.,  446.,  448.,  450.,  452.,  454.,  456.,  458.,  460.,\n",
       "        462.,  464.,  466.,  468.,  470.,  472.,  474.,  476.,  478.,\n",
       "        480.,  482.,  484.,  486.,  488.,  490.,  492.,  494.,  496.,\n",
       "        498.,  500.,  502.,  504.,  506.,  508.,  510.,  512.,  514.,\n",
       "        516.,  518.,  520.,  522.,  524.,  526.,  528.,  530.,  532.,\n",
       "        534.,  536.,  538.,  540.,  542.,  544.,  546.,  548.,  550.,\n",
       "        552.,  554.,  556.,  558.,  560.,  562.,  564.,  566.,  568.,\n",
       "        570.,  572.,  574.,  576.,  578.,  580.,  582.,  584.,  586.,\n",
       "        588.,  590.,  592.,  594.,  596.,  598.,  600.,  602.,  604.,\n",
       "        606.,  608.,  610.,  612.,  614.,  616.,  618.,  620.,  622.,\n",
       "        624.,  626.,  628.,  630.,  632.,  634.,  636.,  638.,  640.,\n",
       "        642.,  644.,  646.,  648.,  650.,  652.,  654.,  656.,  658.,\n",
       "        660.,  662.,  664.,  666.,  668.,  670.,  672.,  674.,  676.,\n",
       "        678.,  680.,  682.,  684.,  686.,  688.,  690.,  692.,  694.,\n",
       "        696.,  698.,  700.,  702.,  704.,  706.,  708.,  710.,  712.,\n",
       "        714.,  716.,  718.,  720.,  722.,  724.,  726.,  728.,  730.,\n",
       "        732.,  734.,  736.,  738.,  740.,  742.,  744.,  746.,  748.,\n",
       "        750.,  752.,  754.,  756.,  758.,  760.,  762.,  764.,  766.,\n",
       "        768.,  770.,  772.,  774.,  776.,  778.,  780.,  782.,  784.,\n",
       "        786.,  788.,  790.,  792.,  794.,  796.,  798.,  800.,  802.,\n",
       "        804.,  806.,  808.,  810.,  812.,  814.,  816.,  818.,  820.,\n",
       "        822.,  824.,  826.,  828.,  830.,  832.,  834.,  836.,  838.,\n",
       "        840.,  842.,  844.,  846.,  848.,  850.,  852.,  854.,  856.,\n",
       "        858.,  860.,  862.,  864.,  866.,  868.,  870.,  872.,  874.,\n",
       "        876.,  878.,  880.,  882.,  884.,  886.,  888.,  890.,  892.,\n",
       "        894.,  896.,  898.,  900.,  902.,  904.,  906.,  908.,  910.,\n",
       "        912.,  914.,  916.,  918.,  920.,  922.,  924.,  926.,  928.,\n",
       "        930.,  932.,  934.,  936.,  938.,  940.,  942.,  944.,  946.,\n",
       "        948.,  950.,  952.,  954.,  956.,  958.,  960.,  962.,  964.,\n",
       "        966.,  968.,  970.,  972.,  974.,  976.,  978.,  980.,  982.,\n",
       "        984.,  986.,  988.,  990.,  992.,  994.,  996.,  998., 1000.,\n",
       "       1002., 1004., 1006., 1008., 1010., 1012., 1014., 1016., 1018.,\n",
       "       1020.])"
      ]
     },
     "execution_count": 6,
     "metadata": {},
     "output_type": "execute_result"
    }
   ],
   "source": [
    "wavelengths = datalink[dl_keys[0]][0].to_table().as_array()['wavelength']\n",
    "wavelengths = np.ma.getdata(wavelengths)\n",
    "wavelengths"
   ]
  },
  {
   "cell_type": "code",
   "execution_count": 7,
   "metadata": {},
   "outputs": [
    {
     "data": {
      "text/plain": [
       "array([1.17388126e-16, 1.05197237e-16, 9.56255662e-17, 9.53671285e-17,\n",
       "       9.80840330e-17, 9.35908475e-17, 8.63012224e-17, 8.77329529e-17,\n",
       "       1.00554378e-16, 1.08033302e-16, 9.65883912e-17, 8.41244271e-17,\n",
       "       8.60622201e-17, 9.42436518e-17, 1.00895368e-16, 1.06910666e-16,\n",
       "       1.14397438e-16, 1.18833561e-16, 1.15473712e-16, 1.06866600e-16,\n",
       "       9.98327325e-17, 9.84032387e-17, 9.65220315e-17, 8.83334794e-17,\n",
       "       7.88167135e-17, 7.61007553e-17, 8.02812533e-17, 8.48786570e-17,\n",
       "       8.73005624e-17, 9.09152160e-17, 1.00880889e-16, 1.17985707e-16,\n",
       "       1.37245979e-16, 1.52794023e-16, 1.60554632e-16, 1.62682365e-16,\n",
       "       1.63783336e-16, 1.66929772e-16, 1.71672072e-16, 1.75800603e-16,\n",
       "       1.75835040e-16, 1.71515185e-16, 1.65053224e-16, 1.59438640e-16,\n",
       "       1.56545228e-16, 1.56434174e-16, 1.57072096e-16, 1.57505155e-16,\n",
       "       1.57649216e-16, 1.58643130e-16, 1.62346080e-16, 1.69559849e-16,\n",
       "       1.78668405e-16, 1.87682662e-16, 1.94592611e-16, 1.98601896e-16,\n",
       "       2.00228041e-16, 2.00840948e-16, 2.02080740e-16, 2.04720425e-16,\n",
       "       2.08211498e-16, 2.11726473e-16, 2.13565540e-16, 2.13274333e-16,\n",
       "       2.11033256e-16, 2.07557231e-16, 2.05015510e-16, 2.03886601e-16,\n",
       "       2.04996770e-16, 2.07964363e-16, 2.11518699e-16, 2.14258916e-16,\n",
       "       2.15488517e-16, 2.13997871e-16, 2.10703760e-16, 2.05714273e-16,\n",
       "       2.00754339e-16, 1.96937860e-16, 1.95098409e-16, 1.95059631e-16,\n",
       "       1.96566463e-16, 1.99203131e-16, 2.01983424e-16, 2.03300745e-16,\n",
       "       2.03576481e-16, 2.02100499e-16, 1.99366251e-16, 1.96073953e-16,\n",
       "       1.92689037e-16, 1.90041318e-16, 1.88601666e-16, 1.88492531e-16,\n",
       "       1.89275296e-16, 1.91278423e-16, 1.93889905e-16, 1.96369342e-16,\n",
       "       1.98598243e-16, 2.00309303e-16, 2.00895569e-16, 2.00787823e-16,\n",
       "       2.00496272e-16, 1.99832383e-16, 1.98897775e-16, 1.98314249e-16,\n",
       "       1.98252230e-16, 1.98060655e-16, 1.98258318e-16, 1.98752575e-16,\n",
       "       1.99514865e-16, 1.99702668e-16, 2.00159193e-16, 2.00408022e-16,\n",
       "       2.00311169e-16, 2.00086917e-16, 1.99888976e-16, 1.99891318e-16,\n",
       "       1.99991136e-16, 2.00728584e-16, 2.01966708e-16, 2.02731288e-16,\n",
       "       2.03250916e-16, 2.02962938e-16, 2.02375494e-16, 2.01023987e-16,\n",
       "       1.98831177e-16, 1.97013312e-16, 1.95168329e-16, 1.93789095e-16,\n",
       "       1.93391558e-16, 1.92590291e-16, 1.92014336e-16, 1.92277961e-16,\n",
       "       1.92801798e-16, 1.93407546e-16, 1.93553011e-16, 1.93468387e-16,\n",
       "       1.92929780e-16, 1.92195005e-16, 1.91375554e-16, 1.90418446e-16,\n",
       "       1.89335157e-16, 1.88470614e-16, 1.86994514e-16, 1.86060038e-16,\n",
       "       1.86288049e-16, 1.86445067e-16, 1.86837575e-16, 1.87357256e-16,\n",
       "       1.87460554e-16, 1.87640072e-16, 1.86508899e-16, 1.84471057e-16,\n",
       "       1.82426651e-16, 1.81313054e-16, 1.76705856e-16, 1.72028130e-16,\n",
       "       1.70123007e-16, 1.70523588e-16, 1.70871784e-16, 1.69935548e-16,\n",
       "       1.68025357e-16, 1.66730124e-16, 1.67436444e-16, 1.69929222e-16,\n",
       "       1.72645180e-16, 1.73730799e-16, 1.72882349e-16, 1.70766461e-16,\n",
       "       1.68432581e-16, 1.67102832e-16, 1.67738702e-16, 1.68924866e-16,\n",
       "       1.69634044e-16, 1.69040459e-16, 1.66829055e-16, 1.63934161e-16,\n",
       "       1.61688108e-16, 1.60777455e-16, 1.60977328e-16, 1.62273818e-16,\n",
       "       1.63071352e-16, 1.62829590e-16, 1.61345483e-16, 1.59697938e-16,\n",
       "       1.57751654e-16, 1.56513411e-16, 1.56300713e-16, 1.56231111e-16,\n",
       "       1.56134364e-16, 1.55750089e-16, 1.55124886e-16, 1.54185646e-16,\n",
       "       1.52776964e-16, 1.51840053e-16, 1.50538547e-16, 1.49348889e-16,\n",
       "       1.48702444e-16, 1.48037920e-16, 1.47407767e-16, 1.47163028e-16,\n",
       "       1.47501007e-16, 1.47723128e-16, 1.47786828e-16, 1.47698472e-16,\n",
       "       1.47048334e-16, 1.46081287e-16, 1.44810381e-16, 1.43888147e-16,\n",
       "       1.42824512e-16, 1.42229855e-16, 1.41414017e-16, 1.40876892e-16,\n",
       "       1.40524195e-16, 1.39970620e-16, 1.39640833e-16, 1.39650071e-16,\n",
       "       1.39810848e-16, 1.40312516e-16, 1.40303689e-16, 1.39843565e-16,\n",
       "       1.39133605e-16, 1.38104725e-16, 1.36940849e-16, 1.35635068e-16,\n",
       "       1.35163800e-16, 1.34988650e-16, 1.35039194e-16, 1.35161577e-16,\n",
       "       1.34892167e-16, 1.34226823e-16, 1.33012231e-16, 1.31142961e-16,\n",
       "       1.29361029e-16, 1.27705238e-16, 1.26573854e-16, 1.26462390e-16,\n",
       "       1.26811658e-16, 1.27430906e-16, 1.28051913e-16, 1.27818529e-16,\n",
       "       1.27579017e-16, 1.26306416e-16, 1.24764287e-16, 1.22748984e-16,\n",
       "       1.20979082e-16, 1.19996299e-16, 1.19589048e-16, 1.19688217e-16,\n",
       "       1.20246174e-16, 1.20630607e-16, 1.20891560e-16, 1.21066737e-16,\n",
       "       1.20227221e-16, 1.19047847e-16, 1.16922985e-16, 1.15580703e-16,\n",
       "       1.14316956e-16, 1.13409744e-16, 1.12481211e-16, 1.12138004e-16,\n",
       "       1.11990951e-16, 1.12092105e-16, 1.11841436e-16, 1.11319585e-16,\n",
       "       1.10879081e-16, 1.10385850e-16, 1.10630715e-16, 1.09799597e-16,\n",
       "       1.10214478e-16, 1.10390072e-16, 1.11000610e-16, 1.11692239e-16,\n",
       "       1.12872196e-16, 1.13065134e-16, 1.12793938e-16, 1.11916452e-16,\n",
       "       1.10843565e-16, 1.09755737e-16, 1.08424922e-16, 1.07188208e-16,\n",
       "       1.06771527e-16, 1.06278303e-16, 1.06426646e-16, 1.06838674e-16,\n",
       "       1.06960303e-16, 1.06885566e-16, 1.07132443e-16, 1.06266702e-16,\n",
       "       1.05146627e-16, 1.03927210e-16, 1.02607335e-16, 1.00547556e-16,\n",
       "       9.92373015e-17, 9.90064850e-17, 9.82748073e-17, 9.81025155e-17,\n",
       "       9.90897589e-17, 9.96648480e-17, 1.00186131e-16, 1.00917808e-16,\n",
       "       1.01256827e-16, 1.01289073e-16, 1.00312669e-16, 9.89334946e-17,\n",
       "       9.84321172e-17, 9.63355982e-17, 9.47071046e-17, 9.43542359e-17,\n",
       "       9.30121056e-17, 9.26522688e-17, 9.34049502e-17, 9.37706104e-17,\n",
       "       9.45749012e-17, 9.54074288e-17, 9.63425267e-17, 9.59524018e-17,\n",
       "       9.58833223e-17, 9.56838460e-17, 9.36951980e-17, 9.29491274e-17,\n",
       "       9.14135691e-17, 8.90654615e-17, 8.88166786e-17, 8.69953526e-17,\n",
       "       8.68394920e-17, 8.68813605e-17, 8.64981906e-17, 8.82644859e-17,\n",
       "       8.83931423e-17, 8.98189965e-17, 9.08740819e-17, 9.06378061e-17,\n",
       "       9.07971806e-17, 9.00008373e-17, 8.82140014e-17, 8.73143929e-17,\n",
       "       8.48158045e-17, 8.35869185e-17, 8.33010317e-17, 8.24103368e-17,\n",
       "       8.49627714e-17, 8.62160426e-17, 9.12387164e-17], dtype=float32)"
      ]
     },
     "execution_count": 7,
     "metadata": {},
     "output_type": "execute_result"
    }
   ],
   "source": [
    "fluxes = datalink[dl_keys[0]][0].to_table().as_array()['flux']\n",
    "fluxes = np.ma.getdata(fluxes)\n",
    "fluxes"
   ]
  },
  {
   "cell_type": "code",
   "execution_count": 8,
   "metadata": {},
   "outputs": [
    {
     "data": {
      "text/plain": [
       "array([9.4410557e-18, 7.2530918e-18, 5.9182018e-18, 5.1632175e-18,\n",
       "       4.7846865e-18, 4.6626492e-18, 4.7365599e-18, 5.0153094e-18,\n",
       "       5.3318623e-18, 5.7369984e-18, 5.2343766e-18, 4.7809493e-18,\n",
       "       4.2288033e-18, 4.3069677e-18, 4.0438536e-18, 4.4587732e-18,\n",
       "       4.4383133e-18, 4.7465787e-18, 4.9764960e-18, 4.9243782e-18,\n",
       "       5.5697553e-18, 5.3660848e-18, 5.9393057e-18, 5.7805974e-18,\n",
       "       5.3732656e-18, 5.4309767e-18, 4.5212059e-18, 4.2795206e-18,\n",
       "       3.9536355e-18, 3.3151455e-18, 3.3368249e-18, 3.1213338e-18,\n",
       "       2.7878898e-18, 2.8920796e-18, 2.7903701e-18, 2.5921164e-18,\n",
       "       2.6766781e-18, 2.6488528e-18, 2.5151465e-18, 2.5801424e-18,\n",
       "       2.6042528e-18, 2.5109886e-18, 2.5402460e-18, 2.5981795e-18,\n",
       "       2.5294162e-18, 2.5035178e-18, 2.5708275e-18, 2.5638490e-18,\n",
       "       2.4943269e-18, 2.5059189e-18, 2.5514084e-18, 2.5218018e-18,\n",
       "       2.4714972e-18, 2.4924186e-18, 2.5195142e-18, 2.4799781e-18,\n",
       "       2.4287694e-18, 2.4359119e-18, 2.4616864e-18, 2.4372219e-18,\n",
       "       2.3773080e-18, 2.3498636e-18, 2.3582882e-18, 2.3570962e-18,\n",
       "       2.3214698e-18, 2.2732532e-18, 2.2505332e-18, 2.2392753e-18,\n",
       "       2.2167789e-18, 2.1738416e-18, 2.1251060e-18, 2.0914189e-18,\n",
       "       2.0799552e-18, 2.0678552e-18, 2.0442907e-18, 1.9995023e-18,\n",
       "       1.9531248e-18, 1.9232747e-18, 1.9155195e-18, 1.9125628e-18,\n",
       "       1.8967069e-18, 1.8649693e-18, 1.8281967e-18, 1.7983639e-18,\n",
       "       1.7922977e-18, 1.7942238e-18, 1.7871655e-18, 1.7623468e-18,\n",
       "       1.7247737e-18, 1.6939284e-18, 1.6831703e-18, 1.6890459e-18,\n",
       "       1.6926474e-18, 1.6848001e-18, 1.6609491e-18, 1.6288291e-18,\n",
       "       1.6058753e-18, 1.6004367e-18, 1.6041034e-18, 1.6069026e-18,\n",
       "       1.5999559e-18, 1.5771377e-18, 1.5444796e-18, 1.5172127e-18,\n",
       "       1.5044531e-18, 1.5010077e-18, 1.5029612e-18, 1.4998785e-18,\n",
       "       1.4860184e-18, 1.4567490e-18, 1.4261039e-18, 1.4006021e-18,\n",
       "       1.3865334e-18, 1.3861489e-18, 1.3946572e-18, 1.4041964e-18,\n",
       "       1.4060117e-18, 1.3998570e-18, 1.3855417e-18, 1.3611372e-18,\n",
       "       1.3347630e-18, 1.3080627e-18, 1.2864075e-18, 1.2653720e-18,\n",
       "       1.2411116e-18, 1.2179316e-18, 1.1915435e-18, 1.1651794e-18,\n",
       "       1.1436560e-18, 1.1213306e-18, 1.1044495e-18, 1.0979387e-18,\n",
       "       1.0983550e-18, 1.1031028e-18, 1.1064825e-18, 1.1069471e-18,\n",
       "       1.1009003e-18, 1.0885701e-18, 1.0705458e-18, 1.0474945e-18,\n",
       "       1.0210560e-18, 9.9475841e-19, 9.6564362e-19, 9.4068665e-19,\n",
       "       9.2327884e-19, 9.0728726e-19, 8.9431232e-19, 8.8398062e-19,\n",
       "       8.7410264e-19, 8.6756667e-19, 7.7978347e-19, 7.8798414e-19,\n",
       "       1.0354832e-18, 1.5162389e-18, 1.7911281e-18, 1.7484462e-18,\n",
       "       1.7559520e-18, 1.7842573e-18, 1.7269880e-18, 1.6833341e-18,\n",
       "       1.7254454e-18, 1.7108920e-18, 1.6163681e-18, 1.5997973e-18,\n",
       "       1.6323952e-18, 1.5676847e-18, 1.4906429e-18, 1.5209759e-18,\n",
       "       1.5246871e-18, 1.4285347e-18, 1.3975917e-18, 1.4523490e-18,\n",
       "       1.4163263e-18, 1.3144136e-18, 1.3331997e-18, 1.3941802e-18,\n",
       "       1.3193126e-18, 1.2153999e-18, 1.2616578e-18, 1.3106638e-18,\n",
       "       1.2104223e-18, 1.1265820e-18, 1.2041070e-18, 1.2450483e-18,\n",
       "       1.1299102e-18, 1.0604192e-18, 1.1585582e-18, 1.1946851e-18,\n",
       "       1.0728677e-18, 1.0056107e-18, 1.1183685e-18, 1.1735422e-18,\n",
       "       1.0527735e-18, 9.5793388e-19, 1.0559936e-18, 1.1410396e-18,\n",
       "       1.0569857e-18, 9.2929968e-19, 9.6633411e-19, 1.0582197e-18,\n",
       "       1.0214728e-18, 9.0365656e-19, 9.0097267e-19, 1.0013481e-18,\n",
       "       1.0206239e-18, 9.3054851e-19, 8.7336376e-19, 9.3517018e-19,\n",
       "       9.8965212e-19, 9.4996089e-19, 8.7607629e-19, 8.8333522e-19,\n",
       "       9.4379209e-19, 9.5166747e-19, 8.9633343e-19, 8.5669209e-19,\n",
       "       8.8198122e-19, 9.2369853e-19, 9.2213536e-19, 8.9060324e-19,\n",
       "       8.7601208e-19, 8.8927448e-19, 9.0427695e-19, 9.0325362e-19,\n",
       "       8.9871778e-19, 8.9461403e-19, 8.9015046e-19, 8.8872699e-19,\n",
       "       8.9591746e-19, 9.0606407e-19, 8.9999122e-19, 8.7401847e-19,\n",
       "       8.5764966e-19, 8.7159277e-19, 8.9722751e-19, 8.9795315e-19,\n",
       "       8.6259764e-19, 8.3056756e-19, 8.4424881e-19, 8.8381798e-19,\n",
       "       9.0281883e-19, 8.7096339e-19, 8.2622873e-19, 8.2294648e-19,\n",
       "       8.6850862e-19, 9.0764471e-19, 8.9314113e-19, 8.3889308e-19,\n",
       "       8.0804891e-19, 8.3861850e-19, 8.9475910e-19, 9.1574033e-19,\n",
       "       8.7700087e-19, 8.2431790e-19, 8.1567303e-19, 8.6924471e-19,\n",
       "       9.1995812e-19, 9.1762475e-19, 8.6205708e-19, 8.1382382e-19,\n",
       "       8.2710611e-19, 8.9017197e-19, 9.3580390e-19, 9.2410716e-19,\n",
       "       8.7031943e-19, 8.2844248e-19, 8.5182889e-19, 9.0716246e-19,\n",
       "       9.5264602e-19, 9.4015322e-19, 8.8898641e-19, 8.4870008e-19,\n",
       "       8.6836190e-19, 9.2447246e-19, 9.6852417e-19, 9.6340154e-19,\n",
       "       9.1852741e-19, 8.7721666e-19, 8.8090961e-19, 9.2892951e-19,\n",
       "       9.8138838e-19, 9.8984930e-19, 9.5633783e-19, 9.1080444e-19,\n",
       "       8.9745726e-19, 9.3587101e-19, 1.0000126e-18, 1.0320907e-18,\n",
       "       1.0186623e-18, 9.7524656e-19, 9.4261015e-19, 9.5106177e-19,\n",
       "       1.0075791e-18, 1.0733568e-18, 1.0924353e-18, 1.0672819e-18,\n",
       "       1.0299928e-18, 1.0093791e-18, 1.0392644e-18, 1.1079714e-18,\n",
       "       1.1680174e-18, 1.1885375e-18, 1.1584640e-18, 1.1132899e-18,\n",
       "       1.1112598e-18, 1.1484162e-18, 1.2256926e-18, 1.3067241e-18,\n",
       "       1.3233472e-18, 1.2969135e-18, 1.2588905e-18, 1.2411879e-18,\n",
       "       1.2930480e-18, 1.3970036e-18, 1.5058072e-18, 1.5515797e-18,\n",
       "       1.5439171e-18, 1.4969232e-18, 1.4402601e-18, 1.4809104e-18,\n",
       "       1.5988949e-18, 1.7378796e-18, 1.8818781e-18, 1.9066695e-18,\n",
       "       1.8738168e-18, 1.7955661e-18, 1.7480616e-18, 1.8675813e-18,\n",
       "       2.0798946e-18, 2.3743535e-18, 2.6227085e-18, 2.7326797e-18,\n",
       "       2.7391209e-18, 2.6542756e-18, 2.6130758e-18, 2.8432344e-18,\n",
       "       3.3198811e-18, 4.0176150e-18, 4.7402946e-18, 5.2078774e-18,\n",
       "       5.5411961e-18, 5.4245500e-18, 5.3582241e-18], dtype=float32)"
      ]
     },
     "execution_count": 8,
     "metadata": {},
     "output_type": "execute_result"
    }
   ],
   "source": [
    "fluxes_err = datalink[dl_keys[0]][0].to_table().as_array()['flux_error']\n",
    "fluxes_err= np.ma.getdata(fluxes_err)\n",
    "fluxes_err"
   ]
  },
  {
   "cell_type": "markdown",
   "metadata": {},
   "source": [
    "## Plot the spectrum"
   ]
  },
  {
   "cell_type": "code",
   "execution_count": 9,
   "metadata": {},
   "outputs": [
    {
     "data": {
      "image/png": "[encoded data removed]",
      "text/plain": [
       "<Figure size 900x700 with 1 Axes>"
      ]
     },
     "metadata": {},
     "output_type": "display_data"
    }
   ],
   "source": [
    "plt.figure(figsize=(9, 7))\n",
    "plt.errorbar(wavelengths, fluxes, yerr=fluxes_err, fmt='o', ms=1, color='blue', ecolor='gray', elinewidth=0.5, capsize=1, capthick=0.5)\n",
    "plt.xlabel('Wavelenght $[nm]$')\n",
    "plt.ylabel('Flux $[W / m^2 / nm]$');"
   ]
  }
 ],
 "metadata": {
  "kernelspec": {
   "display_name": "Astrostatistics",
   "language": "python",
   "name": "python3"
  },
  "language_info": {
   "codemirror_mode": {
    "name": "ipython",
    "version": 3
   },
   "file_extension": ".py",
   "mimetype": "text/x-python",
   "name": "python",
   "nbconvert_exporter": "python",
   "pygments_lexer": "ipython3",
   "version": "3.8.18"
  }
 },
 "nbformat": 4,
 "nbformat_minor": 2
}
